{
 "cells": [
  {
   "cell_type": "markdown",
   "metadata": {},
   "source": [
    "# 1. 图的存储结构"
   ]
  },
  {
   "cell_type": "markdown",
   "metadata": {},
   "source": [
    "## 1.1 邻接矩阵"
   ]
  },
  {
   "cell_type": "markdown",
   "metadata": {},
   "source": []
  },
  {
   "cell_type": "markdown",
   "metadata": {},
   "source": [
    "## 1.2 边集数组"
   ]
  },
  {
   "cell_type": "markdown",
   "metadata": {},
   "source": []
  },
  {
   "cell_type": "markdown",
   "metadata": {},
   "source": [
    "## 1.3 邻接表"
   ]
  },
  {
   "cell_type": "markdown",
   "metadata": {},
   "source": [
    "### 1.3.1 原理 "
   ]
  },
  {
   "cell_type": "markdown",
   "metadata": {},
   "source": [
    "> 使用顺序存储和链式存储相结合的存储结构来存储图的顶点和边。用数组来存储顶点，数组的下标即顶点在图中的位置；用以顶点为表头节点的链表存储边。"
   ]
  },
  {
   "cell_type": "markdown",
   "metadata": {},
   "source": [
    "在下面的示意图中，左侧是一个有向图，右侧则是该有向图对应的邻接表结构。"
   ]
  },
  {
   "cell_type": "markdown",
   "metadata": {},
   "source": [
    "![邻接表](../../image/邻接表.png)"
   ]
  },
  {
   "cell_type": "markdown",
   "metadata": {},
   "source": [
    "### 1.3.2 代码实现"
   ]
  },
  {
   "cell_type": "code",
   "execution_count": 3,
   "metadata": {},
   "outputs": [
    {
     "name": "stdout",
     "output_type": "stream",
     "text": [
      "None\n",
      "1 - 5 : 6\n",
      "1 - 2 : 5\n",
      "2 - 4 : 7\n",
      "3 - 1 : 2\n",
      "4 - 3 : 9\n",
      "5 - 6 : 8\n",
      "6 - 4 : 3\n"
     ]
    }
   ],
   "source": [
    "class EdegeNode:\n",
    "    def __init__(self, vj, val) -> None:\n",
    "        self.vj = vj\n",
    "        self.val = val\n",
    "        self.next = None\n",
    "class VertexNode:\n",
    "    def __init__(self, vi) -> None:\n",
    "        self.vi = vi\n",
    "        self.head = None\n",
    "        \n",
    "class Graph:\n",
    "    def __init__(self, ver_count) -> None:\n",
    "        self.ver_count = ver_count\n",
    "        self.vetices = []\n",
    "        for vi in range(ver_count):\n",
    "            vertex = VertexNode(vi)\n",
    "            self.vetices.append(vertex)\n",
    "    \n",
    "    # 判断顶点v是否有效\n",
    "    def __valid(self, v):\n",
    "        return 0 <= v < self.ver_count\n",
    "    \n",
    "    # 图的创建操作，edges为边的信息\n",
    "    def createGraph(self, edges):\n",
    "        for edge in edges:\n",
    "            vi, vj, val = edge\n",
    "            if not self.__valid(vi) or not self.__valid(vj):\n",
    "                raise ValueError(str(vi) + ' or ' + str(vj) + \" is not a valid vertex.\")\n",
    "            self.addEdge(vi, vj, val)\n",
    "    \n",
    "    # 向图的邻接表中添加边：vi - vj，权值为 val \n",
    "    def addEdge(self, vi, vj, val):\n",
    "        if not self.__valid(vi) or not self.__valid(vj):\n",
    "            raise ValueError(str(vi) + ' or ' + str(vj) + \" is not a valid vertex.\")\n",
    "        \n",
    "        edge = EdegeNode(vj, val)\n",
    "        vertex = self.vetices[vi]\n",
    "        edge.next = vertex.head\n",
    "        vertex.head = edge\n",
    "        \n",
    "    # 获取Vi - vj 边的权值\n",
    "    def getEdge(self, vi, vj):\n",
    "        if not self.__valid(vi) or not self.__valid(vj):\n",
    "            raise ValueError(str(vi) + ' or ' + str(vj) + \" is not a valid vertex.\")\n",
    "        \n",
    "        vertex = self.vetices[vi]\n",
    "        edge = vertex.head\n",
    "        while edge:\n",
    "            if edge.vj == vj:\n",
    "                return edge.val\n",
    "            edge = edge.next\n",
    "        return None\n",
    "    \n",
    "    # 根据邻接表打印图的边\n",
    "    def printGraph(self):\n",
    "        for vertex in self.vetices:\n",
    "            edge = vertex.head\n",
    "            while edge:\n",
    "                print(str(vertex.vi) + ' - ' + str(edge.vj) + ' : ' + str(edge.val))\n",
    "                edge = edge.next\n",
    "\n",
    "graph = Graph(7)\n",
    "edges = [[1, 2, 5],[1, 5, 6],[2, 4, 7],[4, 3, 9],[3, 1, 2],[5, 6, 8],[6, 4, 3]]\n",
    "graph.createGraph(edges)\n",
    "print(graph.getEdge(3, 4))\n",
    "graph.printGraph()"
   ]
  },
  {
   "cell_type": "markdown",
   "metadata": {},
   "source": [
    "### 1.3.3 算法分析"
   ]
  },
  {
   "cell_type": "markdown",
   "metadata": {},
   "source": [
    "- 时间复杂度\n",
    "    - 图的初始化和创建操作：$O(n+m)$;\n",
    "    - 查询是否存在$v_i$到$v_j$的边：$O(TD(v_i))$;\n",
    "    - 遍历某个点的所有边：$O(TD(v_i))$;\n",
    "    - 遍历整张图：$O(n+m)$。\n",
    "- 空间复杂度\n",
    "    - $O(n+m)$。"
   ]
  }
 ],
 "metadata": {
  "kernelspec": {
   "display_name": "py38",
   "language": "python",
   "name": "python3"
  },
  "language_info": {
   "codemirror_mode": {
    "name": "ipython",
    "version": 3
   },
   "file_extension": ".py",
   "mimetype": "text/x-python",
   "name": "python",
   "nbconvert_exporter": "python",
   "pygments_lexer": "ipython3",
   "version": "3.8.18"
  }
 },
 "nbformat": 4,
 "nbformat_minor": 2
}
