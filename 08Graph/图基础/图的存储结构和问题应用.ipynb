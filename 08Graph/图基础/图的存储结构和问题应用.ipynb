{
 "cells": [
  {
   "cell_type": "markdown",
   "metadata": {},
   "source": [
    "# 1. 图的存储结构"
   ]
  },
  {
   "cell_type": "markdown",
   "metadata": {},
   "source": [
    "图的存储可以通过「顺序存储结构」和「链式存储结构」来实现。其中顺序存储结构包括邻接矩阵和边集数组。链式存储结构包括邻接表、链式前向星、十字链表和邻接多重表。"
   ]
  },
  {
   "cell_type": "markdown",
   "metadata": {},
   "source": [
    "> 约定用$n$代表定点数目，$m$代表边数目，$TD(v_i)$表示顶点$v_i$的度。"
   ]
  },
  {
   "cell_type": "markdown",
   "metadata": {},
   "source": [
    "## 1.1 邻接矩阵"
   ]
  },
  {
   "cell_type": "markdown",
   "metadata": {},
   "source": [
    "### 1.1.1 原理"
   ]
  },
  {
   "cell_type": "markdown",
   "metadata": {},
   "source": [
    "> 使用一个二维数组$adjmatrix$来存储顶点之间的邻接关系。\n",
    "> - 对于无权图来说，如果$adjmatrix[i][j]$为1，则说明顶点$v_i$和$v_j$之间存在边，如果$adjmatrix[i][j]$为0，则说明顶点$v_i$和$v_j$之间不存在边。\n",
    "> - 对于带权图来说，如果$adjmatrix[i][j]$为$w$，且$w\\neq\\infty$（即`w != float('inf)`）则说明顶点$v_i$和$v_j$之间的权值为$w$，如果$adjmatrix[i][j]$为$\\infty$（即`float('inf)`），则说明顶点$v_i$和$v_j$之间不存在边。"
   ]
  },
  {
   "cell_type": "markdown",
   "metadata": {},
   "source": [
    "在下面的示意图中，左侧是一个无向图，右侧则是该无向图对应的邻接矩阵结构。"
   ]
  },
  {
   "cell_type": "markdown",
   "metadata": {},
   "source": [
    "![邻接矩阵](../../image/邻接矩阵.png)"
   ]
  },
  {
   "cell_type": "markdown",
   "metadata": {},
   "source": [
    "邻接矩阵的特点：\n",
    "- 优点：实现简单，可以直接查询顶点$v_i$和$v_j$之间是否存在边，还可以直接查询边的权值。\n",
    "- 缺点：初始化效率和遍历效率较低，空间开销大，空间利用率低，并且不能存储重复边，也不便于增删节点。如果当顶点数目过大（比如当$n>10^5$）时，使用邻接矩阵建立一个$n×n$的二维数组不太现实。"
   ]
  },
  {
   "cell_type": "markdown",
   "metadata": {},
   "source": [
    "### 1.1.2 代码实现"
   ]
  },
  {
   "cell_type": "code",
   "execution_count": 1,
   "metadata": {},
   "outputs": [
    {
     "name": "stdout",
     "output_type": "stream",
     "text": [
      "None\n",
      "1 - 2 : 5\n",
      "1 - 3 : 30\n",
      "2 - 1 : 5\n",
      "2 - 3 : 14\n",
      "2 - 4 : 26\n",
      "3 - 1 : 30\n",
      "3 - 2 : 14\n",
      "4 - 2 : 26\n"
     ]
    }
   ],
   "source": [
    "class Graph:\n",
    "    # 图的初始化操作，ver_count 为顶点个数\n",
    "    def __init__(self, ver_count):\n",
    "        self.ver_count = ver_count\n",
    "        self.adj_matrix = [[None for _ in range(ver_count)] for i in range(ver_count)]\n",
    "\n",
    "    # 判断顶点是否存在\n",
    "    def __valid(self, v):\n",
    "        return 0 <= v < self.ver_count\n",
    "\n",
    "    # 创建图，edges为边信息\n",
    "    def createGraph(self, edges):\n",
    "        for vi, vj, val in edges:\n",
    "            self.addEdge(vi, vj, val)\n",
    "            \n",
    "    # 添加边 vi - vj,权值为val\n",
    "    def addEdge(self, vi, vj, val):\n",
    "        if not self.__valid(vi) or not self.__valid(vj):\n",
    "            raise ValueError(str(vi) + ' or ' + str(vj) + \" is not a valid vertex.\")\n",
    "        \n",
    "        self.adj_matrix[vi][vj] = val\n",
    "\n",
    "    # 获取边vi - vj的权值\n",
    "    def getEdge(self, vi, vj):\n",
    "        if not self.__valid(vi) or not self.__valid(vj):\n",
    "            raise ValueError(str(vi) + ' or ' + str(vj) + \" is not a valid vertex.\")\n",
    "        \n",
    "        return self.adj_matrix[vi][vj]\n",
    "    \n",
    "    # 根据邻接矩阵打印图的边\n",
    "    def printGraph(self):\n",
    "        for vi in range(self.ver_count):\n",
    "            for vj in range(self.ver_count):\n",
    "                val = self.adj_matrix[vi][vj]\n",
    "                if val:\n",
    "                    print(str(vi) + ' - ' + str(vj) + ' : ' + str(val))\n",
    "\n",
    "graph = Graph(5)\n",
    "edges = [[1, 2, 5],[2, 1, 5],[1, 3, 30],[3, 1, 30],[2, 3, 14],[3, 2, 14],[2, 4, 26], [4, 2, 26]]\n",
    "graph.createGraph(edges)\n",
    "print(graph.getEdge(3, 4))\n",
    "graph.printGraph()"
   ]
  },
  {
   "cell_type": "markdown",
   "metadata": {},
   "source": [
    "### 1.1.3 算法分析"
   ]
  },
  {
   "cell_type": "markdown",
   "metadata": {},
   "source": [
    "- 时间复杂度\n",
    "    - 初始化操作：$O(n^2)$;\n",
    "    - 查询、添加或删除边操作：$O(1)$;\n",
    "    - 获取某个点的所有边操作：$O(n)$;\n",
    "    - 图的遍历操作：$O(n^2)$。\n",
    "- 空间复杂度：$O(n^2)$。"
   ]
  },
  {
   "cell_type": "markdown",
   "metadata": {},
   "source": [
    "## 1.2 边集数组"
   ]
  },
  {
   "cell_type": "markdown",
   "metadata": {},
   "source": [
    "### 1.2.1 原理"
   ]
  },
  {
   "cell_type": "markdown",
   "metadata": {},
   "source": [
    "> 使用一个数组来存储顶点的邻接关系。数组中的每个元素都包括一条边的起点v_i、终点v_j和边的权重val。"
   ]
  },
  {
   "cell_type": "markdown",
   "metadata": {},
   "source": [
    "在下面的示意图中，左侧是一个有向图，右侧则是该有向图对应的边集数组结构。"
   ]
  },
  {
   "cell_type": "markdown",
   "metadata": {},
   "source": [
    "![边集数组](../../image/边集数组.png)"
   ]
  },
  {
   "cell_type": "markdown",
   "metadata": {},
   "source": [
    "### 1.2.2 代码实现"
   ]
  },
  {
   "cell_type": "code",
   "execution_count": 3,
   "metadata": {},
   "outputs": [
    {
     "name": "stdout",
     "output_type": "stream",
     "text": [
      "None\n",
      "1 - 2 : 5\n",
      "1 - 5 : 6\n",
      "2 - 4 : 7\n",
      "4 - 3 : 9\n",
      "3 - 1 : 2\n",
      "5 - 6 : 8\n",
      "6 - 4 : 3\n"
     ]
    }
   ],
   "source": [
    "# 边信息类\n",
    "class EdgeNode:\n",
    "    def __init__(self, vi, vj, val) -> None:\n",
    "        self.vi = vi    # 边的起点\n",
    "        self.vj = vj    # 边的终点\n",
    "        self.val = val  # 边的权值\n",
    "\n",
    "class Graph:\n",
    "    def __init__(self):\n",
    "        self.edges = [] # 边数组\n",
    "    \n",
    "    # 创建图，edges为边信息\n",
    "    def createGraph(self, edges):\n",
    "        for vi, vj, val in edges:\n",
    "            self.addEdge(vi, vj, val)\n",
    "    \n",
    "    # 向图的边数组中添加边：vi - vj，权值为 val\n",
    "    def addEdge(self, vi, vj, val):\n",
    "        edge = EdgeNode(vi, vj, val)\n",
    "        self.edges.append(edge)\n",
    "        \n",
    "    # 获取边vi - vj的权值\n",
    "    def getEdge(self, vi, vj):\n",
    "        for edge in self.edges:\n",
    "            if edge.vi == vi and edge.vj == vj:\n",
    "                return edge.val\n",
    "        return None\n",
    "    \n",
    "    # 打印图\n",
    "    def printGraph(self):\n",
    "        for edge in self.edges:\n",
    "            print(str(edge.vi) + ' - ' + str(edge.vj) + ' : ' + str(edge.val))\n",
    "            \n",
    "graph = Graph()\n",
    "edges = [[1, 2, 5],[1, 5, 6],[2, 4, 7],[4, 3, 9],[3, 1, 2],[5, 6, 8],[6, 4, 3]]\n",
    "graph.createGraph(edges)\n",
    "print(graph.getEdge(3, 4))\n",
    "graph.printGraph()"
   ]
  },
  {
   "cell_type": "markdown",
   "metadata": {},
   "source": [
    "### 1.2.3 算法分析"
   ]
  },
  {
   "cell_type": "markdown",
   "metadata": {},
   "source": [
    "- 时间复杂度\n",
    "    - 图的初始化和创建操作：$O(m)$;\n",
    "    - 查询是否存在某条边：$O(m)$;\n",
    "    - 遍历某个点的所有边：$O(m)$;\n",
    "    - 遍历整张图：$O(nm)$。\n",
    "- 空间复杂度：$O(m)$。"
   ]
  },
  {
   "cell_type": "markdown",
   "metadata": {},
   "source": [
    "采用边集数组计算节点的度或者查找某条边时，需要遍历整个边集数组，时间复杂度为$O(m)$，m是边的数量。除非特殊必要，很少用使用边集数组来存储图。\n",
    "\n",
    "一般来说，边集数组适合那些对边依次进行处理的运算，不适合对顶点的运算和对任何一条边的运算。"
   ]
  },
  {
   "cell_type": "markdown",
   "metadata": {},
   "source": [
    "## 1.3 邻接表"
   ]
  },
  {
   "cell_type": "markdown",
   "metadata": {},
   "source": [
    "### 1.3.1 原理 "
   ]
  },
  {
   "cell_type": "markdown",
   "metadata": {},
   "source": [
    "> 使用顺序存储和链式存储相结合的存储结构来存储图的顶点和边。用数组来存储顶点，数组的下标即顶点在图中的位置；用以顶点为表头节点的链表存储边。"
   ]
  },
  {
   "cell_type": "markdown",
   "metadata": {},
   "source": [
    "在下面的示意图中，左侧是一个有向图，右侧则是该有向图对应的邻接表结构。"
   ]
  },
  {
   "cell_type": "markdown",
   "metadata": {},
   "source": [
    "![邻接表](../../image/邻接表.png)"
   ]
  },
  {
   "cell_type": "markdown",
   "metadata": {},
   "source": [
    "### 1.3.2 代码实现"
   ]
  },
  {
   "cell_type": "code",
   "execution_count": 3,
   "metadata": {},
   "outputs": [
    {
     "name": "stdout",
     "output_type": "stream",
     "text": [
      "None\n",
      "1 - 5 : 6\n",
      "1 - 2 : 5\n",
      "2 - 4 : 7\n",
      "3 - 1 : 2\n",
      "4 - 3 : 9\n",
      "5 - 6 : 8\n",
      "6 - 4 : 3\n"
     ]
    }
   ],
   "source": [
    "class EdegeNode:\n",
    "    def __init__(self, vj, val) -> None:\n",
    "        self.vj = vj\n",
    "        self.val = val\n",
    "        self.next = None\n",
    "class VertexNode:\n",
    "    def __init__(self, vi) -> None:\n",
    "        self.vi = vi\n",
    "        self.head = None\n",
    "        \n",
    "class Graph:\n",
    "    def __init__(self, ver_count) -> None:\n",
    "        self.ver_count = ver_count\n",
    "        self.vetices = []\n",
    "        for vi in range(ver_count):\n",
    "            vertex = VertexNode(vi)\n",
    "            self.vetices.append(vertex)\n",
    "    \n",
    "    # 判断顶点v是否有效\n",
    "    def __valid(self, v):\n",
    "        return 0 <= v < self.ver_count\n",
    "    \n",
    "    # 图的创建操作，edges为边的信息\n",
    "    def createGraph(self, edges):\n",
    "        for edge in edges:\n",
    "            vi, vj, val = edge\n",
    "            if not self.__valid(vi) or not self.__valid(vj):\n",
    "                raise ValueError(str(vi) + ' or ' + str(vj) + \" is not a valid vertex.\")\n",
    "            self.addEdge(vi, vj, val)\n",
    "    \n",
    "    # 向图的邻接表中添加边：vi - vj，权值为 val \n",
    "    def addEdge(self, vi, vj, val):\n",
    "        if not self.__valid(vi) or not self.__valid(vj):\n",
    "            raise ValueError(str(vi) + ' or ' + str(vj) + \" is not a valid vertex.\")\n",
    "        \n",
    "        edge = EdegeNode(vj, val)\n",
    "        vertex = self.vetices[vi]\n",
    "        edge.next = vertex.head\n",
    "        vertex.head = edge\n",
    "        \n",
    "    # 获取Vi - vj 边的权值\n",
    "    def getEdge(self, vi, vj):\n",
    "        if not self.__valid(vi) or not self.__valid(vj):\n",
    "            raise ValueError(str(vi) + ' or ' + str(vj) + \" is not a valid vertex.\")\n",
    "        \n",
    "        vertex = self.vetices[vi]\n",
    "        edge = vertex.head\n",
    "        while edge:\n",
    "            if edge.vj == vj:\n",
    "                return edge.val\n",
    "            edge = edge.next\n",
    "        return None\n",
    "    \n",
    "    # 根据邻接表打印图的边\n",
    "    def printGraph(self):\n",
    "        for vertex in self.vetices:\n",
    "            edge = vertex.head\n",
    "            while edge:\n",
    "                print(str(vertex.vi) + ' - ' + str(edge.vj) + ' : ' + str(edge.val))\n",
    "                edge = edge.next\n",
    "\n",
    "graph = Graph(7)\n",
    "edges = [[1, 2, 5],[1, 5, 6],[2, 4, 7],[4, 3, 9],[3, 1, 2],[5, 6, 8],[6, 4, 3]]\n",
    "graph.createGraph(edges)\n",
    "print(graph.getEdge(3, 4))\n",
    "graph.printGraph()"
   ]
  },
  {
   "cell_type": "markdown",
   "metadata": {},
   "source": [
    "### 1.3.3 算法分析"
   ]
  },
  {
   "cell_type": "markdown",
   "metadata": {},
   "source": [
    "- 时间复杂度\n",
    "    - 图的初始化和创建操作：$O(n+m)$;\n",
    "    - 查询是否存在$v_i$到$v_j$的边：$O(TD(v_i))$;\n",
    "    - 遍历某个点的所有边：$O(TD(v_i))$;\n",
    "    - 遍历整张图：$O(n+m)$。\n",
    "- 空间复杂度：$O(n+m)$。"
   ]
  },
  {
   "cell_type": "markdown",
   "metadata": {},
   "source": [
    "## 1.4 链式前向星"
   ]
  },
  {
   "cell_type": "markdown",
   "metadata": {},
   "source": [
    "### 1.4.1 原理"
   ]
  },
  {
   "cell_type": "markdown",
   "metadata": {},
   "source": [
    "> 将边集数组和邻接表相结合，实现使用静态链表实现的邻接表，可以快速访问一个节点所有的邻接点，并且使用很少的额外空间。<font color='red'>是目前建图和遍历效率最高的存储方式。</font>\n",
    "\n",
    "有两种数据结构组成：\n",
    "- **特殊的边集数组`edges`**：其中`edges[i]`表示图的第`i`条边。`edges[i].vj`表示第`i`条边的终点，`edge[i]s.val`表示第`i`条边的权值，`edge[i]s.next`表示与第`i`条边同起点的下一条边的下标。\n",
    "- **头节点数组`head`**：其中`head[i]`存储以`i`为起点的第1条边在`edges`中的下标。"
   ]
  },
  {
   "cell_type": "markdown",
   "metadata": {},
   "source": [
    "链式前向星其实并没有改变边集数组原来的存储数学，只是利用`head`数组构成静态链表，建立了顶点$v_i$和顶点$v_i$所连第1条边的关系。"
   ]
  },
  {
   "cell_type": "markdown",
   "metadata": {},
   "source": [
    "在下面的示意图中，左侧是一个有向图，右侧则是该有向图对应的链式前向星结构。\n",
    "\n",
    "如果需要在该图中遍历顶点$v_1$的所有边，则步骤如下：\n",
    "1. 找到以顶点$v_1$为起点的第1条边在数组`edges`的下标，即`index=head[1]=1`。则在`edges`数组中找到与顶点$v_1$相连的第一条边为`edges[1]`，即$<v_1,v_5>$,$val=6$。\n",
    "2. 查找以$v_1$为顶点的下一条边，即`index=edges[1].next=0`，则在`edges`数组中找到与顶点$v_1$相连的第2条边`edges[0]`，即$<v_1,v_2>$，$val=5$。\n",
    "3. 继续查找`index=edges[0].next=-1`则不存在其余边，查找结束。"
   ]
  },
  {
   "cell_type": "markdown",
   "metadata": {},
   "source": [
    "![链式前向星](../../image/链式前向星.png)"
   ]
  },
  {
   "cell_type": "markdown",
   "metadata": {},
   "source": []
  },
  {
   "cell_type": "markdown",
   "metadata": {},
   "source": [
    "### 1.4.2 代码实现"
   ]
  },
  {
   "cell_type": "markdown",
   "metadata": {},
   "source": []
  },
  {
   "cell_type": "markdown",
   "metadata": {},
   "source": [
    "### 1.4.3 算法分析"
   ]
  },
  {
   "cell_type": "markdown",
   "metadata": {},
   "source": []
  }
 ],
 "metadata": {
  "kernelspec": {
   "display_name": "py38",
   "language": "python",
   "name": "python3"
  },
  "language_info": {
   "codemirror_mode": {
    "name": "ipython",
    "version": 3
   },
   "file_extension": ".py",
   "mimetype": "text/x-python",
   "name": "python",
   "nbconvert_exporter": "python",
   "pygments_lexer": "ipython3",
   "version": "3.8.18"
  }
 },
 "nbformat": 4,
 "nbformat_minor": 2
}
