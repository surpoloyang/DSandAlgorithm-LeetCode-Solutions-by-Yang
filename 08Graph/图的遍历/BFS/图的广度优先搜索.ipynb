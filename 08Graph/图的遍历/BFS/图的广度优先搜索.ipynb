{
 "cells": [
  {
   "cell_type": "markdown",
   "metadata": {},
   "source": [
    "# 广度优先搜索简介"
   ]
  },
  {
   "cell_type": "markdown",
   "metadata": {},
   "source": [
    "> BFS从起始节点开始，逐层扩展，先访问离起始节点最近的节点，后访问离起始节点稍远的节点。以此类推，直到完成整个搜索过程。\n",
    "\n",
    "因为遍历到的节点顺序符合「先进先出」的特点，所以广度优先搜索可以通过「队列」来实现。    "
   ]
  },
  {
   "cell_type": "markdown",
   "metadata": {},
   "source": [
    "# 广度优先搜索算法步骤\n",
    "\n",
    "接下来我们以一个无向图为例，介绍一下广度优先搜索的算法步骤。\n",
    "\n",
    "1. 将起始节点 $u$ 放入队列中，并标记为已访问。\n",
    "2. 从队列中取出一个节点，访问它并将其所有的未访问邻接节点 $v$ 放入队列中。\n",
    "3. 标记已访问的节点 $v$，以避免重复访问。\n",
    "4. 重复步骤 $2 \\sim 3$，直到队列为空或找到目标节点。"
   ]
  },
  {
   "cell_type": "markdown",
   "metadata": {},
   "source": [
    "![广度优先搜索](../../../image/广度优先搜索.png)"
   ]
  },
  {
   "cell_type": "markdown",
   "metadata": {},
   "source": [
    "# 基于队列实现的广度优先搜索"
   ]
  },
  {
   "cell_type": "markdown",
   "metadata": {},
   "source": [
    "## 算法步骤\n",
    "\n",
    "1. 定义 $graph$ 为存储无向图的嵌套数组变量，$visited$ 为标记访问节点的集合变量，$queue$ 为存放节点的队列，$u$ 为开始节点，定义 `def bfs(graph, u):` 为队列实现的广度优先搜索方法。\n",
    "2. 首先将起始节点 $u$ 标记为已访问，并将其加入队列中，即 `visited.add(u)`，`queue.append(u)`。\n",
    "3. 从队列中取出队头节点 $u$。访问节点 $u$，并对节点进行相关操作（看具体题目要求）。\n",
    "4. 遍历节点 $u$ 的所有未访问邻接节点 $v$（节点 $v$ 不在 $visited$ 中）。\n",
    "5. 将节点 $v$ 标记已访问，并加入队列中，即 `visited.add(v)`，`queue.append(v)`。\n",
    "6. 重复步骤 $3 \\sim 5$，直到队列 $queue$ 为空。"
   ]
  },
  {
   "cell_type": "markdown",
   "metadata": {},
   "source": [
    "## 代码实现"
   ]
  },
  {
   "cell_type": "code",
   "execution_count": 1,
   "metadata": {},
   "outputs": [
    {
     "name": "stdout",
     "output_type": "stream",
     "text": [
      "0\n",
      "1\n",
      "2\n",
      "3\n",
      "4\n",
      "5\n",
      "6\n"
     ]
    }
   ],
   "source": [
    "import collections\n",
    "\n",
    "class Solution:\n",
    "    def bfs(self, graph, u):\n",
    "        visited = set()                     # 使用 visited 标记访问过的节点\n",
    "        queue = collections.deque([])       # 使用 queue 存放临时节点\n",
    "        \n",
    "        visited.add(u)                      # 将起始节点 u 标记为已访问\n",
    "        queue.append(u)                     # 将起始节点 u 加入队列中\n",
    "        \n",
    "        while queue:                        # 队列不为空\n",
    "            u = queue.popleft()             # 取出队头节点 u\n",
    "            print(u)                        # 访问节点 u\n",
    "            for v in graph[u]:              # 遍历节点 u 的所有未访问邻接节点 v\n",
    "                if v not in visited:        # 节点 v 未被访问\n",
    "                    visited.add(v)          # 将节点 v 标记为已访问\n",
    "                    queue.append(v)         # 将节点 v 加入队列中\n",
    "                \n",
    "\n",
    "graph = {\n",
    "    \"0\": [\"1\", \"2\"],\n",
    "    \"1\": [\"0\", \"2\", \"3\"],\n",
    "    \"2\": [\"0\", \"1\", \"3\", \"4\"],\n",
    "    \"3\": [\"1\", \"2\", \"4\", \"5\"],\n",
    "    \"4\": [\"2\", \"3\"],\n",
    "    \"5\": [\"3\", \"6\"],\n",
    "    \"6\": []\n",
    "}\n",
    "\n",
    "# 基于队列实现的广度优先搜索\n",
    "Solution().bfs(graph, \"0\")\n"
   ]
  }
 ],
 "metadata": {
  "kernelspec": {
   "display_name": "py38",
   "language": "python",
   "name": "python3"
  },
  "language_info": {
   "codemirror_mode": {
    "name": "ipython",
    "version": 3
   },
   "file_extension": ".py",
   "mimetype": "text/x-python",
   "name": "python",
   "nbconvert_exporter": "python",
   "pygments_lexer": "ipython3",
   "version": "3.8.18"
  }
 },
 "nbformat": 4,
 "nbformat_minor": 2
}
