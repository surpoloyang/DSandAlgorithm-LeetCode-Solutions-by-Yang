{
 "cells": [
  {
   "cell_type": "markdown",
   "metadata": {},
   "source": [
    "# 拓扑排序简介"
   ]
  },
  {
   "cell_type": "markdown",
   "metadata": {},
   "source": [
    "> Topological Sorting: 一种对有向无环图（DAG）的所有顶点进行线性排序的方法，使得图中任意一点u和v，如果存在有向边$<u,v>$，则u必须在v之前出现。对有向图进行拓扑排序产生的线性序列称为满足拓扑次序的序列，简称拓扑排序。\n",
    "\n",
    "图的拓扑排序是针对有向无环图（DAG）来说的，无向图和有向有环图没有拓扑排序，或者说不存在拓扑排序。"
   ]
  },
  {
   "cell_type": "markdown",
   "metadata": {},
   "source": [
    "![有向无环图](../../../image/有向无环图.png)"
   ]
  },
  {
   "cell_type": "markdown",
   "metadata": {},
   "source": [
    "如上图中的有向无环图（DAG）所示，$v_1 \\rightarrow v_2 \\rightarrow v_3 \\rightarrow v_4 \\rightarrow v_5 \\rightarrow v_6$ 是该图的一个拓扑序列。与此同时，$v_1 \\rightarrow v_2 \\rightarrow v_3 \\rightarrow v_4 \\rightarrow v_6 \\rightarrow v_5$ 也是该图的一个拓扑序列。也就是说，对于一个有向无环图来说，拓扑序列可能不止一个。"
   ]
  },
  {
   "cell_type": "markdown",
   "metadata": {},
   "source": [
    "# 拓扑排序的实现方法"
   ]
  },
  {
   "cell_type": "markdown",
   "metadata": {},
   "source": [
    "拓扑排序有两种实现方法，分别是「Kahn 算法」和「DFS 深度优先搜索算法」。"
   ]
  },
  {
   "cell_type": "markdown",
   "metadata": {},
   "source": [
    "## Kahn算法"
   ]
  },
  {
   "cell_type": "markdown",
   "metadata": {},
   "source": []
  }
 ],
 "metadata": {
  "language_info": {
   "name": "python"
  }
 },
 "nbformat": 4,
 "nbformat_minor": 2
}
