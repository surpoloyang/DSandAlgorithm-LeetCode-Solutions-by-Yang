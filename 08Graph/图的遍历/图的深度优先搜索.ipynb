{
 "cells": [
  {
   "cell_type": "markdown",
   "metadata": {},
   "source": [
    "# 深度优先搜索简介"
   ]
  },
  {
   "cell_type": "markdown",
   "metadata": {},
   "source": [
    "> DFS，是一种用于搜索树或图结构的算法。深度优先搜索算法采用了回溯思想，从起始节点开始，沿着一条路径尽可能深入地访问节点，直到无法继续前进时为止，然后回溯到上一个未访问的节点，继续深入搜索，直到完成整个搜索过程。\n",
    "\n",
    "深度优先搜索算法中所谓的深度优先，就是说优先沿着一条路径走到底，直到无法继续深入时再回头。\n",
    "\n",
    "在深度优先遍历的过程中，我们需要将当前遍历节点$u$的相邻节点暂时存储起来，以便于在回退的时候可以继续访问它们。遍历到的节点顺序符合「后进先出」的特点，这正是「递归」和「堆栈」所遵循的规律，所以深度优先搜索可以通过「递归」或者「堆栈」来实现。"
   ]
  },
  {
   "cell_type": "markdown",
   "metadata": {},
   "source": [
    "# 深度优先搜索算法步骤"
   ]
  },
  {
   "cell_type": "markdown",
   "metadata": {},
   "source": [
    "接下来我们以一个无向图为例，介绍一下深度优先搜索的算法步骤。\n",
    "\n",
    "1. 选择起始节点 $u$，并将其标记为已访问。\n",
    "2. 检查当前节点是否为目标节点（看具体题目要求）。\n",
    "3. 如果当前节点 $u$ 是目标节点，则直接返回结果。\n",
    "4. 如果当前节点 $u$ 不是目标节点，则遍历当前节点 $u$ 的所有未访问邻接节点。\n",
    "5. 对每个未访问的邻接节点 $v$，从节点 $v$ 出发继续进行深度优先搜索（递归）。\n",
    "6. 如果节点 $u$ 没有未访问的相邻节点，回溯到上一个节点，继续搜索其他路径。\n",
    "7. 重复 $2 \\sim 6$ 步骤，直到遍历完整个图或找到目标节点为止。"
   ]
  },
  {
   "cell_type": "markdown",
   "metadata": {},
   "source": [
    "![深度优先搜索 1](../../image/深度优先搜索%201.png)\n",
    "![深度优先搜索 2](../../image/深度优先搜索%202.png)\n",
    "![深度优先搜索 3](../../image/深度优先搜索%203.png)\n",
    "![深度优先搜索 4](../../image/深度优先搜索%204.png)\n",
    "![深度优先搜索 5](../../image/深度优先搜索%205.png)\n",
    "![深度优先搜索 6](../../image/深度优先搜索%206.png)"
   ]
  },
  {
   "cell_type": "markdown",
   "metadata": {},
   "source": [
    "# 基于递归实现的深度优先搜索"
   ]
  },
  {
   "cell_type": "markdown",
   "metadata": {},
   "source": [
    "## 3.1 基于递归实现的深度优先搜索算法步骤"
   ]
  },
  {
   "cell_type": "markdown",
   "metadata": {},
   "source": [
    "1. 定义 $graph$ 为存储无向图的嵌套数组变量，$visited$ 为标记访问节点的集合变量。$u$ 为当前遍历边的开始节点。定义 `def dfs_recursive(graph, u, visited):` 为递归实现的深度优先搜索方法。\n",
    "2. 选择起始节点 $u$，并将其标记为已访问，即将节点 $u$ 放入 $visited$ 中（`visited.add(u)`）。\n",
    "3. 检查当前节点 $u$ 是否为目标节点（看具体题目要求）。\n",
    "4. 如果当前节点 $u$ 是目标节点，则直接返回结果。\n",
    "5. 如果当前节点 $u$ 不是目标节点，则遍历当前节点 $u$ 的所有未访问邻接节点。\n",
    "6. 对每个未访问的邻接节点 $v$，从节点 $v$ 出发继续进行深度优先搜索（递归），即调用 `dfs_recursive(graph, v, visited)`。\n",
    "7. 如果节点 $u$ 没有未访问的相邻节点，则回溯到最近访问的节点，继续搜索其他路径。\n",
    "8. 重复 $3 \\sim 7$ 步骤，直到遍历完整个图或找到目标节点为止。"
   ]
  },
  {
   "cell_type": "markdown",
   "metadata": {},
   "source": [
    "## 3.2 代码实现"
   ]
  },
  {
   "cell_type": "code",
   "execution_count": 1,
   "metadata": {},
   "outputs": [
    {
     "name": "stdout",
     "output_type": "stream",
     "text": [
      "A\n",
      "B\n",
      "C\n",
      "D\n",
      "E\n",
      "F\n",
      "G\n"
     ]
    }
   ],
   "source": [
    "class Solution:\n",
    "    def dfs_recursive(self, graph, u, visited):\n",
    "        print(u)        # 访问节点u\n",
    "        visited.add(u)  # 节点u标记已访问\n",
    "        \n",
    "        for v in graph[u]:\n",
    "            if v not in visited:    # 节点v未访问过\n",
    "                self.dfs_recursive(graph, v, visited)\n",
    "                \n",
    "graph = {\n",
    "    \"A\": [\"B\", \"C\"],\n",
    "    \"B\": [\"A\", \"C\", \"D\"],\n",
    "    \"C\": [\"A\", \"B\", \"D\", \"E\"],\n",
    "    \"D\": [\"B\", \"C\", \"E\", \"F\"],\n",
    "    \"E\": [\"C\", \"D\"],\n",
    "    \"F\": [\"D\", \"G\"],\n",
    "    \"G\": []\n",
    "}\n",
    "\n",
    "# 基于递归实现的深度优先搜索\n",
    "visited = set()\n",
    "Solution().dfs_recursive(graph, \"A\", visited)"
   ]
  },
  {
   "cell_type": "markdown",
   "metadata": {},
   "source": [
    "# 基于堆栈实现的深度优先搜索"
   ]
  },
  {
   "cell_type": "markdown",
   "metadata": {},
   "source": [
    "## 4.1 基于堆栈实现的深度优先搜索算法步骤"
   ]
  },
  {
   "cell_type": "markdown",
   "metadata": {},
   "source": [
    "深度优先搜索算法除了基于递归实现之外，还可以基于堆栈来实现。同时，为了防止多次遍历同一节点，在使用栈存放节点访问记录时，我们将「当前节点」以及「下一个将要访问的邻接节点下标」一同存入栈中，从而在出栈时，可以通过下标直接找到下一个邻接节点，而不用遍历所有邻接节点。\n",
    "\n",
    "以下是基于堆栈实现的深度优先搜索的算法步骤：\n",
    "\n",
    "1. 定义 $graph$ 为存储无向图的嵌套数组变量，$visited$ 为标记访问节点的集合变量。$start$ 为当前遍历边的开始节点。定义 $stack$ 用于存放节点访问记录的栈结构。\n",
    "2. 选择起始节点 $u$，检查当前节点 $u$ 是否为目标节点（看具体题目要求）。\n",
    "3. 如果当前节点 $u$ 是目标节点，则直接返回结果。\n",
    "4. 如果当前节点 $u$ 不是目标节点，则将节点 $u$ 以及节点 $u$ 下一个将要访问的邻接节点下标 $0$ 放入栈中，并标记为已访问，即 `stack.append([u, 0])`，`visited.add(u)`。\n",
    "5. 如果栈不为空，取出 $stack$ 栈顶元素节点 $u$，以及节点 $u$ 下一个将要访问的邻接节点下标 $i$。\n",
    "6. 根据节点 $u$ 和下标 $i$，取出将要遍历的未访问过的邻接节点 $v$。\n",
    "7. 将节点 $u$ 以及节点 u 的下一个邻接节点下标 $i + 1$ 放入栈中。\n",
    "8. 访问节点 $v$，并对节点进行相关操作（看具体题目要求）。\n",
    "9. 将节点 $v$ 以及节点 $v$ 下一个邻接节点下标 $0$ 放入栈中，并标记为已访问，即 `stack.append([v, 0])`，`visited.add(v)`。\n",
    "10. 重复步骤 $5 \\sim 9$，直到 $stack$ 栈为空或找到目标节点为止。"
   ]
  },
  {
   "cell_type": "markdown",
   "metadata": {},
   "source": [
    "## 4.2 代码实现"
   ]
  },
  {
   "cell_type": "code",
   "execution_count": 2,
   "metadata": {},
   "outputs": [
    {
     "name": "stdout",
     "output_type": "stream",
     "text": [
      "A\n",
      "B\n",
      "C\n",
      "D\n",
      "E\n",
      "F\n",
      "G\n"
     ]
    }
   ],
   "source": [
    "class Solution:\n",
    "    def dfs_stack(self, graph, u):\n",
    "        print(u)    # 访问节点u\n",
    "        visited, stack = set(), []  # 访问过的节点和待访问的节点栈\n",
    "        stack.append([u, 0])        # 节点u和下一个待访问的邻接节点下标\n",
    "        visited.add(u)              # 节点u标记已访问\n",
    "        \n",
    "        while stack:\n",
    "            u, i = stack.pop()\n",
    "            \n",
    "            if i < len(graph[u]):\n",
    "                v = graph[u][i]     # 取出邻接节点\n",
    "                stack.append([u, i+1])  # 下次访问节点u时，访问其下一个邻接节点\n",
    "                \n",
    "                if v not in visited:    # 节点v未访问过\n",
    "                    print(v)\n",
    "                    visited.add(v)      # 节点v标记已访问\n",
    "                    stack.append([v, 0])  # 下一次将遍历 graph[v][0]\n",
    "                    \n",
    "                    \n",
    "graph = {\n",
    "    \"A\": [\"B\", \"C\"],\n",
    "    \"B\": [\"A\", \"C\", \"D\"],\n",
    "    \"C\": [\"A\", \"B\", \"D\", \"E\"],\n",
    "    \"D\": [\"B\", \"C\", \"E\", \"F\"],\n",
    "    \"E\": [\"C\", \"D\"],\n",
    "    \"F\": [\"D\", \"G\"],\n",
    "    \"G\": []\n",
    "}\n",
    "\n",
    "# 基于堆栈实现的深度优先搜索\n",
    "Solution().dfs_stack(graph, \"A\")\n",
    "                "
   ]
  }
 ],
 "metadata": {
  "kernelspec": {
   "display_name": "py38",
   "language": "python",
   "name": "python3"
  },
  "language_info": {
   "codemirror_mode": {
    "name": "ipython",
    "version": 3
   },
   "file_extension": ".py",
   "mimetype": "text/x-python",
   "name": "python",
   "nbconvert_exporter": "python",
   "pygments_lexer": "ipython3",
   "version": "3.8.18"
  }
 },
 "nbformat": 4,
 "nbformat_minor": 2
}
