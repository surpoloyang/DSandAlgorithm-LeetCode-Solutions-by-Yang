{
 "cells": [
  {
   "cell_type": "markdown",
   "metadata": {},
   "source": [
    "# 埃拉托斯特尼筛法（Eratosthenes' sieve）"
   ]
  },
  {
   "cell_type": "markdown",
   "metadata": {},
   "source": [
    "## 算法简介"
   ]
  },
  {
   "cell_type": "markdown",
   "metadata": {},
   "source": [
    "埃拉托斯特尼筛法（古希腊语：κόσκινον Ἐρατοσθένους，英语：sieve of Eratosthenes），简称<font color='red'>**埃氏筛**</font>，是一种用来生成素数的筛法，得名于古希腊数学家埃拉托斯特尼。\n",
    "\n",
    "其基本步骤是从最小的素数2开始，将该素数的所有倍数标记成合数，而下一个尚未被标记的最小自然数3即是下一个素数。如此重复这一过程，将各个素数的倍数标记为合数并找出下一个素数，最终便可找出一定范围内所有素数。"
   ]
  },
  {
   "cell_type": "markdown",
   "metadata": {},
   "source": [
    "![埃氏筛.png](../../image/Sieve_of_Eratosthenes_animation.gif)"
   ]
  },
  {
   "cell_type": "markdown",
   "metadata": {},
   "source": [
    "## 工作原理"
   ]
  },
  {
   "cell_type": "markdown",
   "metadata": {},
   "source": [
    "埃拉托斯特尼筛法通过不断地标记当前素数的所有倍数为合数，从而取得最小的未标记整数为下一个素数。不过，在实际使用此筛法寻找一个范围内的素数时，不需要检查范围内所有整数，也不需要对每个素数都标记其所有的倍数。"
   ]
  },
  {
   "cell_type": "markdown",
   "metadata": {},
   "source": [
    "1. 寻找$N$以内的素数时，若找到了一个大于$\\sqrt{N}$的素数，则剩余的所有尚未标记的数也都是素数。\n",
    "2. 标记某一个素数$p$的倍数时，从$p^2$开始标记即可。"
   ]
  },
  {
   "cell_type": "markdown",
   "metadata": {},
   "source": [
    "### 代码实现"
   ]
  },
  {
   "cell_type": "code",
   "execution_count": null,
   "metadata": {},
   "outputs": [],
   "source": [
    "def eratosthenes_sieve(n):\n",
    "    # 创建一个布尔数组，初始全部设为True\n",
    "    sieve = [True] * (n + 1)\n",
    "    p = 2  # 从2开始筛选\n",
    "    while (p * p <= n):  # 如果p的平方小于或等于n，就继续筛选\n",
    "        if sieve[p]:  # 如果sieve[p]为True，则对它的倍数进行筛选\n",
    "            for i in range(p * p, n + 1, p):  # 筛去所有p的倍数\n",
    "                sieve[i] = False\n",
    "        p += 1\n",
    "    # 筛选完成后，将所有sieve[i]为True的数字i添加到素数列表\n",
    "    primes = [p for p in range(2, n) if sieve[p]]\n",
    "    return primes\n",
    "\n",
    "# 使用函数找出小于等于30的所有素数\n",
    "print(eratosthenes_sieve(30))"
   ]
  }
 ],
 "metadata": {
  "language_info": {
   "name": "python"
  }
 },
 "nbformat": 4,
 "nbformat_minor": 2
}
