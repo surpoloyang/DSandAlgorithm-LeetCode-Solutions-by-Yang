{
 "cells": [
  {
   "cell_type": "markdown",
   "metadata": {},
   "source": [
    "# ${Rabin}$ ${Karp}$算法"
   ]
  },
  {
   "cell_type": "markdown",
   "metadata": {},
   "source": [
    "# 算法介绍"
   ]
  },
  {
   "cell_type": "markdown",
   "metadata": {},
   "source": [
    "> Rabin Karp 算法：简称为 RK 算法。是由它的两位发明者 Michael Oser Rabin 和 Richard Manning Karp 的名字来命名的。RK 算法是他们在 1987 年提出的、使用哈希函数以在文本中搜寻单个模式串的字符串搜索算法。\n",
    "> - Rabin Karp 算法思想：对于给定文本串 $T$ 与模式串 $p$，通过滚动哈希算快速筛选出与模式串 $p$ 不匹配的文本位置，然后在其余位置继续检查匹配项。"
   ]
  },
  {
   "cell_type": "markdown",
   "metadata": {},
   "source": [
    "# 算法步骤"
   ]
  },
  {
   "cell_type": "markdown",
   "metadata": {},
   "source": [
    "## 整体步骤"
   ]
  },
  {
   "cell_type": "markdown",
   "metadata": {},
   "source": [
    "1. 对于给定的文本串与模式串，求出文本串的长度为n，模式串的长度为m。\n",
    "2. 通过滚动哈希算法求出模式串的哈希值$hash\\_p$。\n",
    "3. 再通过滚动哈希算法对文本串中$n-m+1$个子串分别求哈希值$hash\\_t$。\n",
    "4. 然后逐个与模式串的哈希值比较大小。\n",
    "    1. 如果当前子串的哈希值$hash\\_t$与模式串哈希值$hash\\_p$不同，则说明两者不匹配，则继续向后匹配。\n",
    "    2. 如果当前子串的哈希值$hash\\_t$与模式串的哈希值$hash\\_p$相等，则验证当前子串和模式串的每个字符是否真的相等（避免哈希冲突）。\n",
    "        1. 如果当前子串和模式串的每个字符相等，则说明当前子串和模式串匹配。\n",
    "        2. 如果当前子串和模式串的每个字符不相等，则说明两者不匹配，继续向后匹配。\n",
    "5. 比较到末尾，如果仍未成功匹配，则说明文本串中不包含模式串，方法返回-1。"
   ]
  },
  {
   "cell_type": "markdown",
   "metadata": {},
   "source": [
    "## 滚动哈希算法"
   ]
  },
  {
   "cell_type": "markdown",
   "metadata": {},
   "source": [
    "给定的文本串与模式串，求出文本串的长度为n，模式串的长度为m。字符串字符种类数为d，则：\n",
    "- 模式串的哈希值计算方式为：$Hash(p) = p_0 \\times d^{m - 1} + p_1 \\times d^{m - 2} + … + p_{m-1} \\times d^{0}$。\n",
    "- 文本串中起始于位置0，长度为m的子串$T_{[0, m - 1]}$对应哈希值计算方法为：$Hash(T_{[0, m - 1]}) = T_0 \\times d^{m - 1} + T_1 \\times d^{m - 2} + ... + T_{m - 1} \\times d^0$。\n",
    "- 已知子串的哈希值$Hash(T_{[i,i+m-1]})$，将子串向右移动一位的子串对应哈希值计算方法为：$Hash(T_{[i + 1, i + m]}) = [Hash(T_{[i, i + m - 1]}) - T_i \\times d^{m - 1}] \\times d + T_{i + m} \\times d^{0}$。"
   ]
  },
  {
   "cell_type": "markdown",
   "metadata": {},
   "source": [
    "因为哈希值过大会造成溢出，所以我们在计算过程中还要对结果取模。取模的值应该尽可能大，并且应该是质数，这样才能减少哈希碰撞的概率。"
   ]
  },
  {
   "cell_type": "markdown",
   "metadata": {},
   "source": [
    "# 算法代码实现"
   ]
  },
  {
   "cell_type": "code",
   "execution_count": null,
   "metadata": {},
   "outputs": [],
   "source": [
    "# T 为文本串，p 为模式串，d 为字符集的字符种类数，q 为质数\n",
    "def rabinKarp(T: str, p: str, d, q) -> int:\n",
    "    n, m = len(T), len(p)\n",
    "    if n < m:\n",
    "        return -1\n",
    "    \n",
    "    hash_p, hash_t = 0, 0\n",
    "    \n",
    "    for i in range(m):\n",
    "        hash_p = (hash_p * d + ord(p[i])) % q           # 计算模式串 p 的哈希值\n",
    "        hash_t = (hash_t * d + ord(T[i])) % q           # 计算文本串 T 中第一个子串的哈希值\n",
    "    \n",
    "    power = pow(d, m - 1) % q                           # power 用于移除字符哈希时\n",
    "    \n",
    "    for i in range(n - m + 1):\n",
    "        if hash_p == hash_t:                            # 检查模式串 p 的哈希值和子串的哈希值\n",
    "            match = True                                # 如果哈希值相等，验证模式串和子串每个字符是否完全相同（避免哈希冲突）\n",
    "            for j in range(m):\n",
    "                if T[i + j] != p[j]:\n",
    "                    match = False                       # 模式串和子串某个字符不相等，验证失败，跳出循环\n",
    "                    break\n",
    "            if match:                                   # 如果模式串和子串每个字符是否完全相同，返回匹配开始位置\n",
    "                return i\n",
    "        if i < n - m:                                   # 计算下一个相邻子串的哈希值\n",
    "            hash_t = (hash_t - power * ord(T[i])) % q   # 移除字符 T[i]\n",
    "            hash_t = (hash_t * d + ord(T[i + m])) % q   # 增加字符 T[i + m]\n",
    "            hash_t = (hash_t + q) % q                   # 确保 hash_t >= 0\n",
    "        \n",
    "    return -1"
   ]
  },
  {
   "cell_type": "markdown",
   "metadata": {},
   "source": [
    "# 算法分析"
   ]
  },
  {
   "cell_type": "markdown",
   "metadata": {},
   "source": [
    "RK 算法可以看做是 BF 算法的一种改进。在 BF 算法中，每一个字符都需要进行比较。而在 RK 算法中，判断模式串的哈希值与每个子串的哈希值之间是否相等的时间复杂度为$O(1)$。总共需要比较$n-m+1$个子串的哈希值，所以 RK 算法的整体时间复杂度为$O(n)$。跟 BF 算法相比，RK 算法的效率提高了很多。\n",
    "\n",
    "但是如果存在冲突的情况下，算法的效率会降低。最坏情况是每一次比较模式串的哈希值和子串的哈希值时都相等，但是每一次都会出现冲突，那么每一次都需要验证模式串和子串每个字符是否完全相同，那么总的比较次数就是$m×(n-m+1)$，时间复杂度就会退化为$O(m×n)$。"
   ]
  }
 ],
 "metadata": {
  "language_info": {
   "name": "python"
  }
 },
 "nbformat": 4,
 "nbformat_minor": 2
}
